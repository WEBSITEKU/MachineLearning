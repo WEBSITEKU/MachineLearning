{
 "cells": [
  {
   "cell_type": "code",
   "execution_count": null,
   "id": "a9daed73-5a9a-4ed0-b57c-d5f09f0456e5",
   "metadata": {},
   "outputs": [],
   "source": [
    "# Import necessary libraries\n",
    "from sklearn.datasets import load_iris\n",
    "from sklearn.model_selection import cross_val_score\n",
    "from sklearn.linear_model import LogisticRegression\n",
    "import numpy as np"
   ]
  },
  {
   "cell_type": "code",
   "execution_count": 2,
   "id": "131c0d7a-85fa-44da-810c-4214fa01942e",
   "metadata": {},
   "outputs": [],
   "source": [
    "# Load the iris dataset\n",
    "iris = load_iris()\n",
    "X = iris.data\n",
    "y = iris.target"
   ]
  },
  {
   "cell_type": "code",
   "execution_count": 3,
   "id": "35d3d0cf-b434-4c3c-8ea6-147867bf3451",
   "metadata": {},
   "outputs": [],
   "source": [
    "# Initialize the model\n",
    "model = LogisticRegression(max_iter=200)"
   ]
  },
  {
   "cell_type": "code",
   "execution_count": 4,
   "id": "9745e4ff-cd9e-4cee-9b45-60c8ce5a9ee8",
   "metadata": {},
   "outputs": [],
   "source": [
    "# Perform 5-fold cross-validation\n",
    "scores = cross_val_score(model, X, y, cv=5)"
   ]
  },
  {
   "cell_type": "code",
   "execution_count": 5,
   "id": "6d0c3500-d8bb-4a25-9c66-4b6ef2f09df2",
   "metadata": {},
   "outputs": [
    {
     "name": "stdout",
     "output_type": "stream",
     "text": [
      "Cross-validation scores for each fold:\n",
      "[0.96666667 1.         0.93333333 0.96666667 1.        ]\n"
     ]
    }
   ],
   "source": [
    "# Print the scores for each fold\n",
    "print(\"Cross-validation scores for each fold:\")\n",
    "print(scores)"
   ]
  },
  {
   "cell_type": "code",
   "execution_count": 6,
   "id": "dae9f63e-b626-49d3-a110-fe81d3fa4cca",
   "metadata": {},
   "outputs": [
    {
     "name": "stdout",
     "output_type": "stream",
     "text": [
      "Mean cross-validation score: 0.97\n",
      "Standard deviation of cross-validation scores: 0.02\n"
     ]
    }
   ],
   "source": [
    "# Print the mean and standard deviation of the scores\n",
    "print(f\"Mean cross-validation score: {np.mean(scores):.2f}\")\n",
    "print(f\"Standard deviation of cross-validation scores: {np.std(scores):.2f}\")"
   ]
  },
  {
   "cell_type": "markdown",
   "id": "fc9fb7dd-132f-4616-b051-924e368bf73c",
   "metadata": {},
   "source": [
    "Penjelasan\n",
    "Impor Library:\n",
    "\n",
    "load_iris untuk memuat dataset iris.\n",
    "cross_val_score untuk melakukan cross-validation.\n",
    "LogisticRegression untuk model machine learning.\n",
    "numpy untuk operasi matematis pada array.\n",
    "Memuat Dataset:\n",
    "\n",
    "Dataset iris dimuat menggunakan load_iris().\n",
    "X berisi fitur (data) dan y berisi label (target).\n",
    "Inisialisasi Model:\n",
    "\n",
    "Model regresi logistik diinisialisasi dengan parameter max_iter=200 untuk menentukan jumlah maksimum iterasi.\n",
    "Cross-Validation:\n",
    "\n",
    "cross_val_score digunakan untuk melakukan cross-validation dengan 5 folds (cv=5).\n",
    "Hasil cross-validation disimpan dalam array scores.\n",
    "Menampilkan Hasil:\n",
    "\n",
    "Skor cross-validation untuk setiap fold dicetak.\n",
    "Rata-rata dan standar deviasi dari skor cross-validation dihitung dan dicetak."
   ]
  },
  {
   "cell_type": "markdown",
   "id": "33c2803b-080f-4a21-b839-52195c6d110d",
   "metadata": {},
   "source": [
    "Output ini menunjukkan bahwa model memiliki performa yang baik secara konsisten pada data iris dengan skor rata-rata sekitar 0.96 dan standar deviasi yang kecil, menunjukkan bahwa performa model cukup stabil di berbagai fold cross-validation.\n",
    "\n",
    "Catatan Tambahan\n",
    "Anda dapat menyesuaikan parameter cv untuk menggunakan jumlah fold yang berbeda.\n",
    "Cross-validation dapat digunakan dengan berbagai model machine learning dan dataset lainnya sesuai kebutuhan."
   ]
  }
 ],
 "metadata": {
  "kernelspec": {
   "display_name": "Python 3 (ipykernel)",
   "language": "python",
   "name": "python3"
  },
  "language_info": {
   "codemirror_mode": {
    "name": "ipython",
    "version": 3
   },
   "file_extension": ".py",
   "mimetype": "text/x-python",
   "name": "python",
   "nbconvert_exporter": "python",
   "pygments_lexer": "ipython3",
   "version": "3.11.5"
  }
 },
 "nbformat": 4,
 "nbformat_minor": 5
}
